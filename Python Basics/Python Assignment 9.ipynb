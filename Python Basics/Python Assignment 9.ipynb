{
 "cells": [
  {
   "cell_type": "markdown",
   "id": "6e0c0128",
   "metadata": {},
   "source": [
    "### 1. To what does a relative path refer?"
   ]
  },
  {
   "cell_type": "markdown",
   "id": "67761e7b",
   "metadata": {},
   "source": [
    "Relative path is defined as the path related to the present working directly(pwd). It starts at your current directory.\n",
    "\n",
    "For example: if Absolute path to a file called text.txt is: C:/users/admin/docs/text.txt If my PWD is C:/users/admin/ , then the relative path to text.txt would be: docs/text.txt"
   ]
  },
  {
   "cell_type": "markdown",
   "id": "9a1c7dd1",
   "metadata": {},
   "source": [
    "### 2. What does an absolute path start with your operating system?"
   ]
  },
  {
   "cell_type": "markdown",
   "id": "69679f2c",
   "metadata": {},
   "source": [
    "Linux based systems the absolute path starts with /. Where as in Windows based systems absolute path starts with C:"
   ]
  },
  {
   "cell_type": "markdown",
   "id": "c54eb490",
   "metadata": {},
   "source": [
    "### 3. What do the functions os.getcwd() and os.chdir() do?"
   ]
  },
  {
   "cell_type": "markdown",
   "id": "6e7dd16b",
   "metadata": {},
   "source": [
    "os.chdir() performs change directory\n",
    "\n",
    "os.getcwd() gives current working directory"
   ]
  },
  {
   "cell_type": "markdown",
   "id": "8821b2c6",
   "metadata": {},
   "source": [
    "### 4. What are the . and .. folders?"
   ]
  },
  {
   "cell_type": "markdown",
   "id": "efe2d8df",
   "metadata": {},
   "source": [
    ". Represents the Current Directory Whereas\n",
    "\n",
    ".. Represents the Parent Directory of the Current Directory"
   ]
  },
  {
   "cell_type": "markdown",
   "id": "6ba17508",
   "metadata": {},
   "source": [
    "### 5. In C:\\bacon\\eggs\\spam.txt, which part is the dir name, and which part is the base name?"
   ]
  },
  {
   "cell_type": "code",
   "execution_count": 1,
   "id": "5576e0dd",
   "metadata": {},
   "outputs": [
    {
     "name": "stdout",
     "output_type": "stream",
     "text": [
      "C:\\bacon\\eggs\n",
      "spam.txt\n"
     ]
    }
   ],
   "source": [
    "import os\n",
    "path = r'C:\\bacon\\eggs\\spam.txt'\n",
    "print(os.path.dirname(path))\n",
    "print(os.path.basename(path))"
   ]
  },
  {
   "cell_type": "markdown",
   "id": "5caf6af4",
   "metadata": {},
   "source": [
    "The dir name is C:\\\\bacon\\\\eggs\n",
    "The Base name is spam.txt"
   ]
  },
  {
   "cell_type": "markdown",
   "id": "aa261320",
   "metadata": {},
   "source": [
    "### 6. What are the three “mode” arguments that can be passed to the open() function?"
   ]
  },
  {
   "cell_type": "markdown",
   "id": "127a4288",
   "metadata": {},
   "source": [
    "Three mode arguments are:\n",
    "\n",
    "    1. 'r' --> open for reading in text mode.\n",
    "    \n",
    "    2. 'w' --> open for writing.\n",
    "    \n",
    "    3. 'a' --> open for appending."
   ]
  },
  {
   "cell_type": "markdown",
   "id": "550fd253",
   "metadata": {},
   "source": [
    "### 7. What happens if an existing file is opened in write mode?"
   ]
  },
  {
   "cell_type": "markdown",
   "id": "6adf1379",
   "metadata": {},
   "source": [
    "Using this mode will overwrite any existing content in a file. If the given file does not exist, a new one will be created."
   ]
  },
  {
   "cell_type": "markdown",
   "id": "c1362d6f",
   "metadata": {},
   "source": [
    "### 8. How do you tell the difference between read() and readlines()?"
   ]
  },
  {
   "cell_type": "markdown",
   "id": "6b5a82e6",
   "metadata": {},
   "source": [
    "read()      --> it iterates over each character.\n",
    "\n",
    "readlines() --> read only single line of the file."
   ]
  },
  {
   "cell_type": "markdown",
   "id": "0fe9d40b",
   "metadata": {},
   "source": [
    "### 9. What data structure does a shelf value resemble?"
   ]
  },
  {
   "cell_type": "markdown",
   "id": "fa256f19",
   "metadata": {},
   "source": [
    "it contains key and values it represents dictionary."
   ]
  }
 ],
 "metadata": {
  "kernelspec": {
   "display_name": "Python 3 (ipykernel)",
   "language": "python",
   "name": "python3"
  },
  "language_info": {
   "codemirror_mode": {
    "name": "ipython",
    "version": 3
   },
   "file_extension": ".py",
   "mimetype": "text/x-python",
   "name": "python",
   "nbconvert_exporter": "python",
   "pygments_lexer": "ipython3",
   "version": "3.9.7"
  }
 },
 "nbformat": 4,
 "nbformat_minor": 5
}
