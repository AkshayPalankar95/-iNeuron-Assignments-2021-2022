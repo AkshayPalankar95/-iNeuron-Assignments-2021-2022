{
 "cells": [
  {
   "cell_type": "markdown",
   "id": "407307db",
   "metadata": {},
   "source": [
    "### 1. Is the Python Standard Library included with PyInputPlus?"
   ]
  },
  {
   "cell_type": "markdown",
   "id": "16f65265",
   "metadata": {},
   "source": [
    "No, PyInputPlus its not a Python Standard Library, it needs to be installed explicitly using the command !pip install PyInputPlus"
   ]
  },
  {
   "cell_type": "markdown",
   "id": "4ae7fee8",
   "metadata": {},
   "source": [
    "### 2. Why is PyInputPlus commonly imported with import pyinputplus as pypi?"
   ]
  },
  {
   "cell_type": "markdown",
   "id": "7fc3a3f6",
   "metadata": {},
   "source": [
    "so that a shorter name can be used when calling the module's functions."
   ]
  },
  {
   "cell_type": "markdown",
   "id": "413ed946",
   "metadata": {},
   "source": [
    "### 3. How do you distinguish between inputInt() and inputFloat()?"
   ]
  },
  {
   "cell_type": "markdown",
   "id": "6fc0a9d9",
   "metadata": {},
   "source": [
    "nputInt() function Accepts an integer value and it always returns an int value.\n",
    "\n",
    "Whereas inputFloat() function Accepts a floating-point numeric value and always returns a float value."
   ]
  },
  {
   "cell_type": "markdown",
   "id": "21e97e04",
   "metadata": {},
   "source": [
    "### 4. Using PyInputPlus, how do you ensure that the user enters a whole number between 0 and 99?"
   ]
  },
  {
   "cell_type": "markdown",
   "id": "9deba912",
   "metadata": {},
   "source": [
    "PyInputPlus module provides a function called as inputInt() which only returns only integer values. inorder to restrict the input between 0 and 99,will use parameters like min & max to ensure that user enters the values between given range only.\n",
    "\n",
    "import pyinputplus as pyip\n",
    "\n",
    "wholenumber = pyip.inputInt(prompt='Enter a number: ', min=0, max=100)\n",
    "\n",
    "print(wholenumber)"
   ]
  },
  {
   "cell_type": "code",
   "execution_count": 2,
   "id": "d8ec007a",
   "metadata": {},
   "outputs": [
    {
     "name": "stdout",
     "output_type": "stream",
     "text": [
      "Enter a number: 105\n",
      "Number must be at maximum 100.\n",
      "Enter a number: 55\n",
      "55\n"
     ]
    }
   ],
   "source": [
    "import pyinputplus as pyip\n",
    "\n",
    "wholenumber = pyip.inputInt(prompt='Enter a number: ', min=0, max=100)\n",
    "\n",
    "print(wholenumber)"
   ]
  },
  {
   "cell_type": "markdown",
   "id": "c7e57110",
   "metadata": {},
   "source": [
    "### 5. What is transferred to the keyword arguments allowRegexes and blockRegexes?"
   ]
  },
  {
   "cell_type": "markdown",
   "id": "06d08303",
   "metadata": {},
   "source": [
    "we can use allowRegexes and blockRegexes keyword arguments to take list of regular expression strings to determine what the pyinputplus function will reject or accept valid input."
   ]
  },
  {
   "cell_type": "code",
   "execution_count": 3,
   "id": "bef707c4",
   "metadata": {},
   "outputs": [
    {
     "name": "stdout",
     "output_type": "stream",
     "text": [
      "Pal\n",
      "This response is invalid.\n",
      "Akshay\n"
     ]
    }
   ],
   "source": [
    "import pyinputplus as pyip\n",
    "a = pyip.inputStr(allowRegexes=[r'Akshay'],blockRegexes=[r'Pal'])"
   ]
  },
  {
   "cell_type": "markdown",
   "id": "3783dda9",
   "metadata": {},
   "source": [
    "### 6. If a blank input is entered three times, what does inputStr(limit=3) do?"
   ]
  },
  {
   "cell_type": "markdown",
   "id": "5f2056c0",
   "metadata": {},
   "source": [
    " The statement inputStr(limit=3) will throw two exceptions ValidationException and RetryLimitException. The \"first exception\" is thrown because blank values are not allowed by inputStr() function by default. if we want to consider blank values as valid input, we have to set blank=True.\n",
    "\n",
    "The \"second exception\" is occured because we have reached the max limit we have specified by using limit parameter. inorder to avoid this exception we can use default parameter to return a default value when max limit is reached."
   ]
  },
  {
   "cell_type": "markdown",
   "id": "d420547c",
   "metadata": {},
   "source": [
    "### 7. If blank input is entered three times, what does inputStr(limit=3, default='hello') do?"
   ]
  },
  {
   "cell_type": "markdown",
   "id": "45cbf694",
   "metadata": {},
   "source": [
    "Given the default parameter is set to 'hello'. after blank input is entered three times instead of raising 'RetryLimitException' exception the function will return 'hello' as response to the calling function"
   ]
  }
 ],
 "metadata": {
  "kernelspec": {
   "display_name": "Python 3 (ipykernel)",
   "language": "python",
   "name": "python3"
  },
  "language_info": {
   "codemirror_mode": {
    "name": "ipython",
    "version": 3
   },
   "file_extension": ".py",
   "mimetype": "text/x-python",
   "name": "python",
   "nbconvert_exporter": "python",
   "pygments_lexer": "ipython3",
   "version": "3.9.7"
  }
 },
 "nbformat": 4,
 "nbformat_minor": 5
}
