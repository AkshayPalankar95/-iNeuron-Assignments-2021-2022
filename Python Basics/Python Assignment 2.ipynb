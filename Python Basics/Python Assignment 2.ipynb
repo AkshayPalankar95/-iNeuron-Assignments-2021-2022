{
 "cells": [
  {
   "cell_type": "markdown",
   "id": "28fcfc32",
   "metadata": {},
   "source": [
    "1.What are the two values of the Boolean data type? How do you write them?"
   ]
  },
  {
   "cell_type": "markdown",
   "id": "0d6e11b0",
   "metadata": {},
   "source": [
    "True and False are two values of the boolen data types. Where first letter is capital T and F and with the rest in lowercase"
   ]
  },
  {
   "cell_type": "code",
   "execution_count": 4,
   "id": "0c1e2aa1",
   "metadata": {},
   "outputs": [
    {
     "name": "stdout",
     "output_type": "stream",
     "text": [
      "True <class 'bool'>\n",
      "False <class 'bool'>\n"
     ]
    }
   ],
   "source": [
    "a=True\n",
    "b=False\n",
    "print(a,type(a))\n",
    "print(b,type(b))"
   ]
  },
  {
   "cell_type": "markdown",
   "id": "5777aedc",
   "metadata": {},
   "source": [
    "2. What are the three different types of Boolean operators?"
   ]
  },
  {
   "cell_type": "markdown",
   "id": "2219e0f0",
   "metadata": {},
   "source": [
    "The three differnt types of Boolean operators in python are: or,and,not"
   ]
  },
  {
   "cell_type": "markdown",
   "id": "0398e486",
   "metadata": {},
   "source": [
    "3. Make a list of each Boolean operator's truth tables (i.e. every possible combination of Boolean values for the operator and what it evaluate )."
   ]
  },
  {
   "cell_type": "markdown",
   "id": "5cc3be71",
   "metadata": {},
   "source": [
    "Truth Table for and operaotor\n",
    "True and True is True\n",
    "True and False is False\n",
    "False and True is False\n",
    "False and False is False\n",
    "\n",
    "Truth Table for or operaotor\n",
    "True and True is True\n",
    "True and False is True\n",
    "False and True is True\n",
    "False and False is False\n",
    "\n",
    "Truth Table for not operaotor\n",
    "not True is False.\n",
    "not False is True."
   ]
  },
  {
   "cell_type": "markdown",
   "id": "b8eeaa17",
   "metadata": {},
   "source": [
    "4. What are the values of the following expressions?\n",
    "(5 > 4) and (3 == 5)\n",
    "not (5 > 4)\n",
    "(5 > 4) or (3 == 5)\n",
    "not ((5 > 4) or (3 == 5))\n",
    "(True and True) and (True == False)\n",
    "(not False) or (not True)\n"
   ]
  },
  {
   "cell_type": "code",
   "execution_count": 6,
   "id": "f2ef45d2",
   "metadata": {},
   "outputs": [
    {
     "name": "stdout",
     "output_type": "stream",
     "text": [
      "False\n",
      "False\n",
      "True\n",
      "False\n",
      "False\n",
      "True\n"
     ]
    }
   ],
   "source": [
    "print((5>4)and(3==5)) \n",
    "print(not(5>4)) \n",
    "print((5>4)or(3==5)) \n",
    "print(not((5>4)or(3==5)))\n",
    "print((True and True)and(True==False))\n",
    "print((not False)or(not True)) "
   ]
  },
  {
   "cell_type": "markdown",
   "id": "7c9b2bcf",
   "metadata": {},
   "source": [
    "5. What are the six comparison operators?"
   ]
  },
  {
   "cell_type": "markdown",
   "id": "e87ac385",
   "metadata": {},
   "source": [
    "==, !=, <,>,<=,and >="
   ]
  },
  {
   "cell_type": "markdown",
   "id": "ce88adcc",
   "metadata": {},
   "source": [
    "6. How do you tell the difference between the equal to and assignment operators?Describe a condition and when you would use one."
   ]
  },
  {
   "cell_type": "markdown",
   "id": "d7811d22",
   "metadata": {},
   "source": [
    "== is the equal operator that compares two values and evaluates to a Boolean,\n",
    "\n",
    "Whereas = is the assignment operator that stores a value in a variable."
   ]
  },
  {
   "cell_type": "code",
   "execution_count": 8,
   "id": "f216c511",
   "metadata": {},
   "outputs": [
    {
     "name": "stdout",
     "output_type": "stream",
     "text": [
      "True\n"
     ]
    }
   ],
   "source": [
    "a=3 # Assigning operator that stores 3 value in a variable a\n",
    "\n",
    "if a==3:#comparing values of a varible value and 3\n",
    "    print(a==3)"
   ]
  },
  {
   "cell_type": "markdown",
   "id": "6e4a4df9",
   "metadata": {},
   "source": [
    "7. Identify the three blocks in this code:"
   ]
  },
  {
   "cell_type": "code",
   "execution_count": 12,
   "id": "687c31a6",
   "metadata": {},
   "outputs": [
    {
     "name": "stdout",
     "output_type": "stream",
     "text": [
      "ham\n",
      "spam\n",
      "spam\n"
     ]
    }
   ],
   "source": [
    "\"\"\" In Python, code block refers to a collection of code that is in the same block or indent.\n",
    "most commonly found in classes,functions, and loops.\"\"\"\n",
    "spam = 0\n",
    "if spam == 10:\n",
    "    print('eggs')\n",
    "if spam > 5:\n",
    "    print('bacon')\n",
    "else:\n",
    "    print('ham')\n",
    "    print('spam')\n",
    "    print('spam')\n"
   ]
  },
  {
   "cell_type": "markdown",
   "id": "8324e4af",
   "metadata": {},
   "source": [
    "8. Write code that prints Hello if 1 is stored in spam, prints Howdy if 2 is stored in spam, and prints Greetings! if anything else is stored in spam."
   ]
  },
  {
   "cell_type": "code",
   "execution_count": 15,
   "id": "20c9eac0",
   "metadata": {},
   "outputs": [
    {
     "name": "stdout",
     "output_type": "stream",
     "text": [
      "Greetings\n"
     ]
    }
   ],
   "source": [
    "if spam==1:\n",
    "    print(\"Hello\")\n",
    "elif spam == 2:\n",
    "    print(\"Howdy\")\n",
    "else:\n",
    "    print(\"Greetings\")"
   ]
  },
  {
   "cell_type": "markdown",
   "id": "0ab46b1d",
   "metadata": {},
   "source": [
    "9.If your programme is stuck in an endless loop, what keys you’ll press?"
   ]
  },
  {
   "cell_type": "markdown",
   "id": "656c2669",
   "metadata": {},
   "source": [
    "Press Ctrl+c to stop a program stuck in an infinite loop"
   ]
  },
  {
   "cell_type": "markdown",
   "id": "b9d009a4",
   "metadata": {},
   "source": [
    "10. How can you tell the difference between break and continue?"
   ]
  },
  {
   "cell_type": "markdown",
   "id": "1449306a",
   "metadata": {},
   "source": [
    "The break statement will move the execution outside the loop if break condtion is satisfied. Whereas the continue statement will move the execution to the start of the loop."
   ]
  },
  {
   "cell_type": "markdown",
   "id": "51eacdaa",
   "metadata": {},
   "source": [
    "11. In a for loop, what is the difference between range(10), range(0, 10), and range(0, 10, 1)?"
   ]
  },
  {
   "cell_type": "markdown",
   "id": "bd586cbe",
   "metadata": {},
   "source": [
    "The range(10) call range from 0 to 9 (10 is not included)\n",
    "\n",
    "The range (0,10) tells the loop to start from 0 till 9\n",
    "\n",
    "The range(0,10,1) tells the loop to increment between each integer in the sequence(step = 1)"
   ]
  },
  {
   "cell_type": "markdown",
   "id": "ac26ce5a",
   "metadata": {},
   "source": [
    "12. Write a short program that prints the numbers 1 to 10 using a for loop. Then write an equivalent program that prints the numbers 1 to 10 using a while loop."
   ]
  },
  {
   "cell_type": "code",
   "execution_count": 33,
   "id": "c2666f8c",
   "metadata": {},
   "outputs": [
    {
     "name": "stdout",
     "output_type": "stream",
     "text": [
      "Using For Loop\n",
      "1 2 3 4 5 6 7 8 9 10 \n",
      "\n",
      "Using For Loop\n",
      "1 2 3 4 5 6 7 8 9 10 "
     ]
    }
   ],
   "source": [
    "print('Using For Loop')\n",
    "for i in range(1,11):  \n",
    "    print(i,end=\" \")\n",
    "print('\\n')   \n",
    "\n",
    "print('Using For Loop')\n",
    "i =1\n",
    "while i<=10:\n",
    "    print(i,end=\" \")\n",
    "    i=i+1\n"
   ]
  },
  {
   "cell_type": "markdown",
   "id": "e019ec53",
   "metadata": {},
   "source": [
    "13. If you had a function named bacon() inside a module named spam, how would you call it after importing spam?"
   ]
  },
  {
   "cell_type": "markdown",
   "id": "a93cd309",
   "metadata": {},
   "source": [
    "spam.bacon()"
   ]
  }
 ],
 "metadata": {
  "kernelspec": {
   "display_name": "Python 3 (ipykernel)",
   "language": "python",
   "name": "python3"
  },
  "language_info": {
   "codemirror_mode": {
    "name": "ipython",
    "version": 3
   },
   "file_extension": ".py",
   "mimetype": "text/x-python",
   "name": "python",
   "nbconvert_exporter": "python",
   "pygments_lexer": "ipython3",
   "version": "3.9.7"
  }
 },
 "nbformat": 4,
 "nbformat_minor": 5
}
