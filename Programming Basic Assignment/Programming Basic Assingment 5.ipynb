{
 "cells": [
  {
   "cell_type": "markdown",
   "id": "7f1f2bbe",
   "metadata": {},
   "source": [
    "### 1.\tWrite a Python Program to Find LCM?"
   ]
  },
  {
   "cell_type": "code",
   "execution_count": 1,
   "id": "810f633f",
   "metadata": {},
   "outputs": [
    {
     "name": "stdout",
     "output_type": "stream",
     "text": [
      "Enter the first number 24\n",
      "Enter the second number 36\n",
      "LCM of 24 and 36 is 72\n"
     ]
    }
   ],
   "source": [
    "def lcm_num(n1,n2):\n",
    "    if n1>n2:\n",
    "        high = n1\n",
    "    else:\n",
    "        high = n2\n",
    "    value= high\n",
    "    while True:\n",
    "        if high% n1==0 and high%n2==0:\n",
    "            print(\"LCM of\", n1, \"and\", n2, \"is\", high)\n",
    "            break\n",
    "        else:\n",
    "            high = high+value\n",
    "n1= int(input(\"Enter the first number \"))\n",
    "n2= int(input(\"Enter the second number \"))\n",
    "lcm_num(n1,n2)"
   ]
  },
  {
   "cell_type": "markdown",
   "id": "127974d6",
   "metadata": {},
   "source": [
    "### 2.\tWrite a Python Program to Find HCF?"
   ]
  },
  {
   "cell_type": "code",
   "execution_count": 2,
   "id": "68aa8a36",
   "metadata": {},
   "outputs": [
    {
     "name": "stdout",
     "output_type": "stream",
     "text": [
      "Enter the first number 64\n",
      "Enter the second number 48\n",
      "16\n"
     ]
    }
   ],
   "source": [
    "def hcf_num(a,b):\n",
    "    if b==0:\n",
    "        return a\n",
    "    else:\n",
    "        return hcf_num(b,a%b)\n",
    "num1= int(input(\"Enter the first number \"))\n",
    "num2= int(input(\"Enter the second number \"))\n",
    "print(hcf_num(num1,num2))"
   ]
  },
  {
   "cell_type": "markdown",
   "id": "2a02e8cb",
   "metadata": {},
   "source": [
    "### 3.\tWrite a Python Program to Convert Decimal to Binary, Octal and Hexadecimal?"
   ]
  },
  {
   "cell_type": "code",
   "execution_count": 3,
   "id": "84ce6885",
   "metadata": {},
   "outputs": [
    {
     "name": "stdout",
     "output_type": "stream",
     "text": [
      "Enter a Number: 15\n",
      "Binary of  15 is 0b1111\n",
      "Octal of  15 is 0o17\n",
      "Hexadecimal of  15 is 0xf\n"
     ]
    }
   ],
   "source": [
    "def Decimal_To():\n",
    "    num = int(input('Enter a Number: '))\n",
    "    print(\"Binary of \",num,\"is\",bin(num))\n",
    "    print(\"Octal of \",num,\"is\",oct(num))    \n",
    "    print(\"Hexadecimal of \",num,\"is\",hex(num))    \n",
    "\n",
    "Decimal_To()"
   ]
  },
  {
   "cell_type": "markdown",
   "id": "ea57479a",
   "metadata": {},
   "source": [
    "### 4.\tWrite a Python Program To Find ASCII value of a character?"
   ]
  },
  {
   "cell_type": "code",
   "execution_count": 4,
   "id": "3db0a517",
   "metadata": {},
   "outputs": [
    {
     "name": "stdout",
     "output_type": "stream",
     "text": [
      "Enter a Character: A\n",
      "Ascii Character of char 65\n"
     ]
    }
   ],
   "source": [
    "def charToAscii():\n",
    "    char = input('Enter a Character: ')\n",
    "    if len(char) > 1:\n",
    "        print('Please Enter a Single Character')\n",
    "    else:\n",
    "        print('Ascii Character of char', ord(char))\n",
    "\n",
    "charToAscii()"
   ]
  },
  {
   "cell_type": "markdown",
   "id": "0c3099aa",
   "metadata": {},
   "source": [
    "### 5.\tWrite a Python Program to Make a Simple Calculator with 4 basic mathematical operations?"
   ]
  },
  {
   "cell_type": "code",
   "execution_count": 5,
   "id": "fa72f15c",
   "metadata": {
    "scrolled": true
   },
   "outputs": [
    {
     "name": "stdout",
     "output_type": "stream",
     "text": [
      "Operation: +, -, *, /\n",
      "Select operations: +\n",
      "Enter first number: 28\n",
      "Enter second number: 50\n",
      "28.0 + 50.0 = 78.0\n"
     ]
    }
   ],
   "source": [
    "print(\"Operation: +, -, *, /\")\n",
    "select = input(\"Select operations: \")\n",
    "\n",
    "num1 = float(input(\"Enter first number: \"))\n",
    "num2 = float(input(\"Enter second number: \"))\n",
    "\n",
    "# add(+)\n",
    "if select == \"+\":\n",
    "    print(num1, \"+\", num2, \"=\", num1+num2)\n",
    "\n",
    "# subtract(-)\n",
    "elif select == \"-\":\n",
    "    print(num1, \"-\", num2, \"=\", num1-num2)\n",
    "\n",
    "# multiplies(*) \n",
    "elif select == \"*\":\n",
    "    print(num1, \"*\", num2, \"=\", num1*num2)\n",
    "\n",
    "# divides(/)\n",
    "elif select == \"/\":\n",
    "    print(num1, \"/\", num2, \"=\", num1/num2)\n",
    "\n",
    "else:\n",
    "    print(\"Invalid input\")"
   ]
  }
 ],
 "metadata": {
  "kernelspec": {
   "display_name": "Python 3 (ipykernel)",
   "language": "python",
   "name": "python3"
  },
  "language_info": {
   "codemirror_mode": {
    "name": "ipython",
    "version": 3
   },
   "file_extension": ".py",
   "mimetype": "text/x-python",
   "name": "python",
   "nbconvert_exporter": "python",
   "pygments_lexer": "ipython3",
   "version": "3.9.7"
  }
 },
 "nbformat": 4,
 "nbformat_minor": 5
}
