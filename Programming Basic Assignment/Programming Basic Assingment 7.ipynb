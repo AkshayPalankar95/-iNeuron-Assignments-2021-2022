{
 "cells": [
  {
   "cell_type": "markdown",
   "id": "442c6df2",
   "metadata": {},
   "source": [
    "### 1.\tWrite a Python Program to find sum of array?"
   ]
  },
  {
   "cell_type": "code",
   "execution_count": 3,
   "id": "f8db2595",
   "metadata": {},
   "outputs": [
    {
     "name": "stdout",
     "output_type": "stream",
     "text": [
      "Sum of elements of an array: 21\n"
     ]
    }
   ],
   "source": [
    "def sum_array(*args):\n",
    "    sum=0\n",
    "    for i in args:\n",
    "        sum = sum+i\n",
    "    return sum\n",
    "    \n",
    "a = sum_array(1,2,3,4,5,6)\n",
    "print(\"Sum of elements of an array: \" + str(a))"
   ]
  },
  {
   "cell_type": "markdown",
   "id": "39a3f35c",
   "metadata": {},
   "source": [
    "### 2.\tWrite a Python Program to find largest element in an array?"
   ]
  },
  {
   "cell_type": "code",
   "execution_count": 6,
   "id": "4ea348bf",
   "metadata": {},
   "outputs": [
    {
     "name": "stdout",
     "output_type": "stream",
     "text": [
      "Largest element in array: 152\n"
     ]
    }
   ],
   "source": [
    "arr =  [10,2,58,99,105,152,21]   \n",
    "     \n",
    "max = arr[0];    \n",
    "     \n",
    "for i in range(len(arr)):    \n",
    "     \n",
    "    if(arr[i] > max):    \n",
    "        max = arr[i];    \n",
    "           \n",
    "print(\"Largest element in array: \" + str(max));   "
   ]
  },
  {
   "cell_type": "markdown",
   "id": "5f2da37a",
   "metadata": {},
   "source": [
    "### 3.\tWrite a Python Program for array rotation?"
   ]
  },
  {
   "cell_type": "code",
   "execution_count": 8,
   "id": "c1203963",
   "metadata": {},
   "outputs": [
    {
     "name": "stdout",
     "output_type": "stream",
     "text": [
      "Enter the Array: 10,20,30,40,50\n",
      "The Reverse of Array is (50, 40, 30, 20, 10) \n"
     ]
    }
   ],
   "source": [
    "def Reverse_Array():\n",
    "    in_arr = eval(input(\"Enter the Array: \"))\n",
    "    print(\"The Reverse of Array is {} \".format(in_arr[::-1]))\n",
    "    \n",
    "Reverse_Array()"
   ]
  },
  {
   "cell_type": "markdown",
   "id": "7a0a81ab",
   "metadata": {},
   "source": [
    "### 4.\tWrite a Python Program to Split the array and add the first part to the end?"
   ]
  },
  {
   "cell_type": "code",
   "execution_count": 28,
   "id": "1568f91b",
   "metadata": {},
   "outputs": [
    {
     "name": "stdout",
     "output_type": "stream",
     "text": [
      "Length of array: 5\n",
      "10\n",
      "20\n",
      "30\n",
      "40\n",
      "50\n",
      "[10, 20, 30, 40, 50]\n",
      "splitted part is:  [10, 20]\n",
      "after spliting remaining array is:  [30, 40, 50]\n",
      "Final Array:  [30, 40, 50, 10, 20]\n"
     ]
    }
   ],
   "source": [
    "array = []\n",
    "size = int(input(\"Length of array: \"))\n",
    "for i in range(size):\n",
    "    elements = int(input())\n",
    "    array.append(elements)\n",
    "print(array)\n",
    "\n",
    "mid = size//2\n",
    "\n",
    "split = array[:mid]\n",
    "print(\"splitted part is: \",split)\n",
    "\n",
    "array = array[mid:]\n",
    "print(\"after spliting remaining array is: \",array)\n",
    "\n",
    "array = array+split\n",
    "print(\"Final Array: \",array)"
   ]
  },
  {
   "cell_type": "markdown",
   "id": "00c162f4",
   "metadata": {},
   "source": [
    "### 5.\tWrite a Python Program to check if given array is Monotonic?"
   ]
  },
  {
   "cell_type": "code",
   "execution_count": 22,
   "id": "7784ffe4",
   "metadata": {},
   "outputs": [
    {
     "name": "stdout",
     "output_type": "stream",
     "text": [
      "False\n",
      "False\n",
      "False\n",
      "True\n"
     ]
    }
   ],
   "source": [
    "def ismonotone(a):\n",
    "    n=len(a)\n",
    "    if n==1:\n",
    "        return True\n",
    "    else:\n",
    "        \n",
    "        if all(a[i]>=a[i+1] for i in range(0,n-1) or a[i]<=a[i+1] for i in range(0,n-1)):\n",
    "            return True\n",
    "        else:\n",
    "            return False\n",
    "\n",
    "A = [1, 5, 4, 2]\n",
    "print(ismonotone(A))\n",
    "b = [9, 12, 4, 2]\n",
    "print(ismonotone(b))\n",
    "c=[4,3,25]\n",
    "print(ismonotone(c))\n",
    "d=[1]\n",
    "print(ismonotone(d))\n"
   ]
  },
  {
   "cell_type": "code",
   "execution_count": null,
   "id": "6cdd2636",
   "metadata": {},
   "outputs": [],
   "source": []
  }
 ],
 "metadata": {
  "kernelspec": {
   "display_name": "Python 3 (ipykernel)",
   "language": "python",
   "name": "python3"
  },
  "language_info": {
   "codemirror_mode": {
    "name": "ipython",
    "version": 3
   },
   "file_extension": ".py",
   "mimetype": "text/x-python",
   "name": "python",
   "nbconvert_exporter": "python",
   "pygments_lexer": "ipython3",
   "version": "3.9.7"
  }
 },
 "nbformat": 4,
 "nbformat_minor": 5
}
