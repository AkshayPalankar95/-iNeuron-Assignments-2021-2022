{
 "cells": [
  {
   "cell_type": "markdown",
   "id": "20bb2d8d",
   "metadata": {},
   "source": [
    "### 1.\tWrite a Python Program to Add Two Matrices?"
   ]
  },
  {
   "cell_type": "code",
   "execution_count": 1,
   "id": "7d384c84",
   "metadata": {},
   "outputs": [
    {
     "name": "stdout",
     "output_type": "stream",
     "text": [
      "[17, 15, 4]\n",
      "[10, 12, 9]\n",
      "[11, 13, 18]\n"
     ]
    }
   ],
   "source": [
    "A = [[12,7,3],\n",
    "\n",
    "    [4 ,5,6],\n",
    "\n",
    "    [7 ,8,9]]\n",
    "\n",
    "B = [[5,8,1],\n",
    "\n",
    "    [6,7,3],\n",
    "\n",
    "    [4,5,9]]\n",
    "\n",
    "result = [[0,0,0],\n",
    "\n",
    "         [0,0,0],\n",
    "\n",
    "         [0,0,0]]\n",
    "\n",
    "for x in range(len(A)):\n",
    "\n",
    "    for y in range(len(A[0])):\n",
    "        result[x][y] = A[x][y] + B[x][y]\n",
    "\n",
    "for q in result:\n",
    "    print(q)\n",
    "\n"
   ]
  },
  {
   "cell_type": "markdown",
   "id": "7803f9e7",
   "metadata": {},
   "source": [
    "### 2.\tWrite a Python Program to Multiply Two Matrices?"
   ]
  },
  {
   "cell_type": "code",
   "execution_count": 2,
   "id": "998e66cd",
   "metadata": {},
   "outputs": [
    {
     "name": "stdout",
     "output_type": "stream",
     "text": [
      "Result: \n",
      "[26, 29, 40]\n",
      "[48, 88, 89]\n",
      "[105, 144, 173]\n"
     ]
    }
   ],
   "source": [
    "def Multiply(A,B):\n",
    "    result=[ [0,0,0],[0,0,0],[0,0,0] ]\n",
    "   \n",
    "    for i in range(len(A)): \n",
    "        for j in range(len(B[0])):\n",
    "            for k in range(len(B)):\n",
    "                result[i][j] += A[i][k] * B[k][j]\n",
    "    for p in result:\n",
    "        print(p)\n",
    "\n",
    "A = [[1, 2, 3],[6, 7, 4], [8, 10, 11]]\n",
    "  \n",
    "B = [[1, 5, 3],[2, 6, 5], [7, 4, 9]]\n",
    "\n",
    "print(\"Result: \")\n",
    "\n",
    "Multiply(A,B)"
   ]
  },
  {
   "cell_type": "markdown",
   "id": "0d84de58",
   "metadata": {},
   "source": [
    "### 3.\tWrite a Python Program to Transpose a Matrix?"
   ]
  },
  {
   "cell_type": "code",
   "execution_count": 6,
   "id": "206138b3",
   "metadata": {},
   "outputs": [
    {
     "name": "stdout",
     "output_type": "stream",
     "text": [
      "[2, 3]\n",
      "[4, 5]\n",
      "[7, 8]\n",
      "Transpose: \n",
      "[2, 4, 7]\n",
      "[3, 5, 8]\n"
     ]
    }
   ],
   "source": [
    "matrix= [ [2,3],[4,5],[7,8]]\n",
    "\n",
    "for m in matrix:\n",
    "    print(m)\n",
    "\n",
    "transpose= [[matrix[j][i] for j in range(len(matrix))] for i in range(len(matrix[0]))]\n",
    "print(\"Transpose: \")\n",
    "\n",
    "for t in transpose:\n",
    "    print(t)\n"
   ]
  },
  {
   "cell_type": "markdown",
   "id": "533e26a6",
   "metadata": {},
   "source": [
    "### 4.\tWrite a Python Program to Sort Words in Alphabetic Order?"
   ]
  },
  {
   "cell_type": "code",
   "execution_count": 4,
   "id": "06a6b104",
   "metadata": {},
   "outputs": [
    {
     "name": "stdout",
     "output_type": "stream",
     "text": [
      "Enter a string: full stack data science course\n",
      "The sorted words are:\n",
      "course\n",
      "data\n",
      "full\n",
      "science\n",
      "stack\n"
     ]
    }
   ],
   "source": [
    "my_str = input(\"Enter a string: \")\n",
    "words = my_str.split()\n",
    "words.sort()\n",
    "print(\"The sorted words are:\")\n",
    "for word in words:\n",
    "    print(word)\n",
    " "
   ]
  },
  {
   "cell_type": "markdown",
   "id": "a0f629c4",
   "metadata": {},
   "source": [
    "### 5.\tWrite a Python Program to Remove Punctuation From a String?"
   ]
  },
  {
   "cell_type": "code",
   "execution_count": 7,
   "id": "625dabbb",
   "metadata": {},
   "outputs": [
    {
     "name": "stdout",
     "output_type": "stream",
     "text": [
      "Enter a String: \"Full Stacks DS\" @ Ineuron.in $* ~[;']\n",
      "Full Stacks DS  Ineuronin  \n"
     ]
    }
   ],
   "source": [
    "def removePunctuatuions():\n",
    "    punctuations = '''!()-[]{};:'\"\\,<>./?@#$%^&*_~'''\n",
    "    in_string = input('Enter a String: ')\n",
    "    out_string = ''\n",
    "    for ele in in_string:\n",
    "        if ele not in punctuations:\n",
    "            out_string += ele\n",
    "    print(out_string)\n",
    "    \n",
    "removePunctuatuions()"
   ]
  },
  {
   "cell_type": "code",
   "execution_count": null,
   "id": "65538751",
   "metadata": {},
   "outputs": [],
   "source": []
  }
 ],
 "metadata": {
  "kernelspec": {
   "display_name": "Python 3 (ipykernel)",
   "language": "python",
   "name": "python3"
  },
  "language_info": {
   "codemirror_mode": {
    "name": "ipython",
    "version": 3
   },
   "file_extension": ".py",
   "mimetype": "text/x-python",
   "name": "python",
   "nbconvert_exporter": "python",
   "pygments_lexer": "ipython3",
   "version": "3.9.7"
  }
 },
 "nbformat": 4,
 "nbformat_minor": 5
}
