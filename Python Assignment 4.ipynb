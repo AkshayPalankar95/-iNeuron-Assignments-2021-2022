{
 "cells": [
  {
   "cell_type": "markdown",
   "id": "78afa806",
   "metadata": {},
   "source": [
    "1. What exactly is []?"
   ]
  },
  {
   "cell_type": "markdown",
   "id": "26a6a818",
   "metadata": {},
   "source": [
    "The empty list represented by [] is a list that contains no items. "
   ]
  },
  {
   "cell_type": "markdown",
   "id": "ce039fdd",
   "metadata": {},
   "source": [
    "2. In a list of values stored in a variable called spam, how would you assign the value 'hello' as the third value? (Assume [2, 4, 6, 8, 10] are in spam.)"
   ]
  },
  {
   "cell_type": "markdown",
   "id": "6cd4d539",
   "metadata": {},
   "source": [
    "spam[2] = 'hello"
   ]
  },
  {
   "cell_type": "code",
   "execution_count": 1,
   "id": "9020f2f5",
   "metadata": {},
   "outputs": [
    {
     "name": "stdout",
     "output_type": "stream",
     "text": [
      "[2, 4, 6, 8, 10]\n",
      "[2, 4, 'hello', 8, 10]\n"
     ]
    }
   ],
   "source": [
    "spam=[2,4,6,8,10]\n",
    "print(spam)\n",
    "spam[2]='hello'\n",
    "print(spam)"
   ]
  },
  {
   "cell_type": "markdown",
   "id": "1d8a7d44",
   "metadata": {},
   "source": [
    "Let's pretend the spam includes the list ['a', 'b', 'c', 'd'] for the next three queries."
   ]
  },
  {
   "cell_type": "markdown",
   "id": "0b0ecd62",
   "metadata": {},
   "source": [
    "3. What is the value of spam[int(int('3' * 2) / 11)]?"
   ]
  },
  {
   "cell_type": "markdown",
   "id": "0c6f1596",
   "metadata": {},
   "source": [
    " '3' * 2 is the string '33',passed to int() before being divided by 11. This evaluates to 3, spam[3] is equal to d\n",
    " spam=['a','b','c','d']\n",
    "print(\"spam[int(int('3'*2)//11)])"
   ]
  },
  {
   "cell_type": "markdown",
   "id": "687e5836",
   "metadata": {},
   "source": [
    "4. What is the value of spam[-1]?"
   ]
  },
  {
   "cell_type": "code",
   "execution_count": 4,
   "id": "cfc73e6e",
   "metadata": {},
   "outputs": [
    {
     "name": "stdout",
     "output_type": "stream",
     "text": [
      "spam[-1] = d\n"
     ]
    }
   ],
   "source": [
    "spam=['a','b','c','d']\n",
    "print('spam[-1] =',spam[-1])\n"
   ]
  },
  {
   "cell_type": "markdown",
   "id": "cbcee5a7",
   "metadata": {},
   "source": [
    "5. What is the value of spam[:2]?"
   ]
  },
  {
   "cell_type": "code",
   "execution_count": 10,
   "id": "e4307f59",
   "metadata": {},
   "outputs": [
    {
     "name": "stdout",
     "output_type": "stream",
     "text": [
      "['a', 'b', 'c', 'd']\n",
      "['a', 'b']\n"
     ]
    }
   ],
   "source": [
    "spam=['a','b','c','d']\n",
    "print(spam)\n",
    "print(spam[:2])"
   ]
  },
  {
   "cell_type": "markdown",
   "id": "2dc7e7d7",
   "metadata": {},
   "source": [
    "Let's pretend bacon has the list [3.14, 'cat,' 11, 'cat,' True] for the next three questions."
   ]
  },
  {
   "cell_type": "markdown",
   "id": "cecacf89",
   "metadata": {},
   "source": [
    "6. What is the value of bacon.index('cat')?\n"
   ]
  },
  {
   "cell_type": "code",
   "execution_count": 11,
   "id": "3eab8d3c",
   "metadata": {},
   "outputs": [
    {
     "name": "stdout",
     "output_type": "stream",
     "text": [
      "bacon.index('cat') = 1\n"
     ]
    }
   ],
   "source": [
    "bacon=[3.14,'cat',11,'cat',True]\n",
    "print(\"bacon.index('cat') =\",bacon.index('cat'))"
   ]
  },
  {
   "cell_type": "markdown",
   "id": "813ff4ab",
   "metadata": {},
   "source": [
    "7. How does bacon.append(99) change the look of the list value in bacon?"
   ]
  },
  {
   "cell_type": "code",
   "execution_count": 14,
   "id": "b5d52214",
   "metadata": {},
   "outputs": [
    {
     "name": "stdout",
     "output_type": "stream",
     "text": [
      "[3.14, 'cat', 11, 'cat', True]\n",
      "[3.14, 'cat', 11, 'cat', True, 99]\n"
     ]
    }
   ],
   "source": [
    "bacon=[3.14,'cat',11,'cat',True]\n",
    "print(bacon)\n",
    "bacon.append(99)\n",
    "print(bacon)"
   ]
  },
  {
   "cell_type": "markdown",
   "id": "bccff564",
   "metadata": {},
   "source": [
    "8. How does bacon.remove('cat') change the look of the list in bacon?"
   ]
  },
  {
   "cell_type": "code",
   "execution_count": 15,
   "id": "2d4e9718",
   "metadata": {},
   "outputs": [
    {
     "name": "stdout",
     "output_type": "stream",
     "text": [
      "[3.14, 'cat', 11, 'cat', True]\n",
      "[3.14, 11, 'cat', True]\n"
     ]
    }
   ],
   "source": [
    "bacon=[3.14,'cat',11,'cat',True]\n",
    "print(bacon)\n",
    "bacon.remove('cat')\n",
    "print(bacon)"
   ]
  },
  {
   "cell_type": "markdown",
   "id": "b9e4d0c8",
   "metadata": {},
   "source": [
    "9. What are the list concatenation and list replication operators?"
   ]
  },
  {
   "cell_type": "markdown",
   "id": "b08dd0c6",
   "metadata": {},
   "source": [
    "The operator for list concatenation is +, while the operator for replication is *."
   ]
  },
  {
   "cell_type": "code",
   "execution_count": 16,
   "id": "90f0fb1d",
   "metadata": {},
   "outputs": [
    {
     "name": "stdout",
     "output_type": "stream",
     "text": [
      "[1, 2, 3, 4, 5, 6, 7, 8, 9]\n",
      "[6, 7, 8, 9, 6, 7, 8, 9]\n"
     ]
    }
   ],
   "source": [
    "# Example\n",
    "list_1 = [1,2,3,4,5]\n",
    "list_2 = [6,7,8,9]\n",
    "print(list_1 + list_2) # List Concatenation\n",
    "print(list_2*2) # List Replication"
   ]
  },
  {
   "cell_type": "markdown",
   "id": "26b0feab",
   "metadata": {},
   "source": [
    "10. What is difference between the list methods append() and insert()?"
   ]
  },
  {
   "cell_type": "markdown",
   "id": "da8b01d9",
   "metadata": {},
   "source": [
    "append() will add values only to the end of a list\n",
    "syntax: list_1.append(element)\n",
    "\n",
    "insert(): This method can be used to insert a value at any desired position. \n",
    "It takes two arguments-element and the index at which the element has to be inserted.\n",
    "syntax: list_1(index,element)"
   ]
  },
  {
   "cell_type": "markdown",
   "id": "3e11ad64",
   "metadata": {},
   "source": [
    "11. What are the two methods for removing items from a list?"
   ]
  },
  {
   "cell_type": "markdown",
   "id": "2e25be7e",
   "metadata": {},
   "source": [
    "1.Using the remove() method.\n",
    "2.Using the list object's pop() method.\n",
    "3.Using the del operator."
   ]
  },
  {
   "cell_type": "markdown",
   "id": "c38c2a1e",
   "metadata": {},
   "source": [
    "12. Describe how list values and string values are identical."
   ]
  },
  {
   "cell_type": "markdown",
   "id": "194cd51f",
   "metadata": {},
   "source": [
    "List and string both are used to store value /data and both are sequence. \n",
    "The values that make up a list are called elements.Lists are similar to strings, which are ordered collections of characters, except that the elements of a list can have any datatype and Strings in python are surrounded by either single quotation marks, or double quotation marks."
   ]
  },
  {
   "cell_type": "markdown",
   "id": "23d35a75",
   "metadata": {},
   "source": [
    "13. What's the difference between tuples and lists?"
   ]
  },
  {
   "cell_type": "markdown",
   "id": "09aed0de",
   "metadata": {},
   "source": [
    "Lists are Mutable,Indexable and Slicable.lists use the square brackets, [].values can be added,removed or changed\n",
    "\n",
    "Tuples are Immutable but Indexable and Slicable.the tuple values cannot be changed at all. Also, tuples are represented using parentheses ().The tuple is faster than the list because of static in nature. \n",
    "\n",
    "example:\n",
    "\n",
    "list_num = [10, 20, 30, 40]\n",
    "\n",
    "tup_num = (10, 20, 30, 40)"
   ]
  },
  {
   "cell_type": "markdown",
   "id": "9421b326",
   "metadata": {},
   "source": [
    "14. How do you type a tuple value that only contains the integer 42?"
   ]
  },
  {
   "cell_type": "code",
   "execution_count": 17,
   "id": "54956b28",
   "metadata": {},
   "outputs": [
    {
     "name": "stdout",
     "output_type": "stream",
     "text": [
      "<class 'tuple'>\n"
     ]
    }
   ],
   "source": [
    "tup1=(42,)\n",
    "print(type(tup1))"
   ]
  },
  {
   "cell_type": "markdown",
   "id": "654e1e3f",
   "metadata": {},
   "source": [
    "15. How do you get a list value's tuple form? How do you get a tuple value's list form?"
   ]
  },
  {
   "cell_type": "markdown",
   "id": "999b610b",
   "metadata": {},
   "source": [
    "To convert a list into tuple call tuple() builtin function and pass the list as argument to the function\n",
    "To convert a tuple into list call list() builtin function and pass the tuple as argument to the function"
   ]
  },
  {
   "cell_type": "markdown",
   "id": "c1d4e597",
   "metadata": {},
   "source": [
    "16. Variables that \"contain\" list values are not necessarily lists themselves. Instead, what do they contain?"
   ]
  },
  {
   "cell_type": "markdown",
   "id": "11c4f008",
   "metadata": {},
   "source": [
    "They contain references to list values."
   ]
  },
  {
   "cell_type": "markdown",
   "id": "1d2240e0",
   "metadata": {},
   "source": [
    "17. How do you distinguish between copy.copy() and copy.deepcopy()?"
   ]
  },
  {
   "cell_type": "markdown",
   "id": "663fabfa",
   "metadata": {},
   "source": [
    "The copy.copy() function will do a shallow copy of a list, while the copy.deepcopy() function will do a deep copy of a list. That is, only copy.deepcopy() will duplicate any lists inside the list."
   ]
  }
 ],
 "metadata": {
  "kernelspec": {
   "display_name": "Python 3 (ipykernel)",
   "language": "python",
   "name": "python3"
  },
  "language_info": {
   "codemirror_mode": {
    "name": "ipython",
    "version": 3
   },
   "file_extension": ".py",
   "mimetype": "text/x-python",
   "name": "python",
   "nbconvert_exporter": "python",
   "pygments_lexer": "ipython3",
   "version": "3.9.7"
  }
 },
 "nbformat": 4,
 "nbformat_minor": 5
}
